{
  "nbformat": 4,
  "nbformat_minor": 0,
  "metadata": {
    "colab": {
      "provenance": [],
      "authorship_tag": "ABX9TyPD2qxRs3j443qyp+mafSkR",
      "include_colab_link": true
    },
    "kernelspec": {
      "name": "python3",
      "display_name": "Python 3"
    },
    "language_info": {
      "name": "python"
    }
  },
  "cells": [
    {
      "cell_type": "markdown",
      "metadata": {
        "id": "view-in-github",
        "colab_type": "text"
      },
      "source": [
        "<a href=\"https://colab.research.google.com/github/nithinporandla/rinexprojects/blob/main/major_project1.ipynb\" target=\"_parent\"><img src=\"https://colab.research.google.com/assets/colab-badge.svg\" alt=\"Open In Colab\"/></a>"
      ]
    },
    {
      "cell_type": "code",
      "execution_count": 2,
      "metadata": {
        "colab": {
          "base_uri": "https://localhost:8080/",
          "height": 424
        },
        "id": "C5jmuIrOCuQh",
        "outputId": "a399bf2d-b748-4283-f279-b44235d9a812"
      },
      "outputs": [
        {
          "output_type": "execute_result",
          "data": {
            "text/plain": [
              "                                  bike_name       city  kms_driven  \\\n",
              "0        TVS Star City Plus Dual Tone 110cc  Ahmedabad       17654   \n",
              "1               Royal Enfield Classic 350cc      Delhi       11000   \n",
              "2                      Triumph Daytona 675R      Delhi         110   \n",
              "3                      TVS Apache RTR 180cc  Bangalore       16329   \n",
              "4      Yamaha FZ S V 2.0 150cc-Ltd. Edition  Bangalore       10000   \n",
              "...                                     ...        ...         ...   \n",
              "32643                Hero Passion Pro 100cc      Delhi       22000   \n",
              "32644                  TVS Apache RTR 180cc     Karnal        6639   \n",
              "32645              Bajaj Avenger Street 220      Delhi       20373   \n",
              "32646             Hero Super Splendor 125cc     Jaipur       84186   \n",
              "32647                    Bajaj Pulsar 150cc       Pune       60857   \n",
              "\n",
              "             owner  age  power          brand   price  \n",
              "0      First Owner    3    110            TVS   35000  \n",
              "1      First Owner    4    350  Royal Enfield  119900  \n",
              "2      First Owner    8    675        Triumph  600000  \n",
              "3      First Owner    4    180            TVS   65000  \n",
              "4      First Owner    3    150         Yamaha   80000  \n",
              "...            ...  ...    ...            ...     ...  \n",
              "32643  First Owner    4    100           Hero   39000  \n",
              "32644  First Owner    9    180            TVS   30000  \n",
              "32645  First Owner    6    220          Bajaj   60000  \n",
              "32646  First Owner   16    125           Hero   15600  \n",
              "32647  First Owner   13    150          Bajaj   22000  \n",
              "\n",
              "[32648 rows x 8 columns]"
            ],
            "text/html": [
              "\n",
              "  <div id=\"df-73ec10ff-47e9-4f47-81ce-1089554ac117\">\n",
              "    <div class=\"colab-df-container\">\n",
              "      <div>\n",
              "<style scoped>\n",
              "    .dataframe tbody tr th:only-of-type {\n",
              "        vertical-align: middle;\n",
              "    }\n",
              "\n",
              "    .dataframe tbody tr th {\n",
              "        vertical-align: top;\n",
              "    }\n",
              "\n",
              "    .dataframe thead th {\n",
              "        text-align: right;\n",
              "    }\n",
              "</style>\n",
              "<table border=\"1\" class=\"dataframe\">\n",
              "  <thead>\n",
              "    <tr style=\"text-align: right;\">\n",
              "      <th></th>\n",
              "      <th>bike_name</th>\n",
              "      <th>city</th>\n",
              "      <th>kms_driven</th>\n",
              "      <th>owner</th>\n",
              "      <th>age</th>\n",
              "      <th>power</th>\n",
              "      <th>brand</th>\n",
              "      <th>price</th>\n",
              "    </tr>\n",
              "  </thead>\n",
              "  <tbody>\n",
              "    <tr>\n",
              "      <th>0</th>\n",
              "      <td>TVS Star City Plus Dual Tone 110cc</td>\n",
              "      <td>Ahmedabad</td>\n",
              "      <td>17654</td>\n",
              "      <td>First Owner</td>\n",
              "      <td>3</td>\n",
              "      <td>110</td>\n",
              "      <td>TVS</td>\n",
              "      <td>35000</td>\n",
              "    </tr>\n",
              "    <tr>\n",
              "      <th>1</th>\n",
              "      <td>Royal Enfield Classic 350cc</td>\n",
              "      <td>Delhi</td>\n",
              "      <td>11000</td>\n",
              "      <td>First Owner</td>\n",
              "      <td>4</td>\n",
              "      <td>350</td>\n",
              "      <td>Royal Enfield</td>\n",
              "      <td>119900</td>\n",
              "    </tr>\n",
              "    <tr>\n",
              "      <th>2</th>\n",
              "      <td>Triumph Daytona 675R</td>\n",
              "      <td>Delhi</td>\n",
              "      <td>110</td>\n",
              "      <td>First Owner</td>\n",
              "      <td>8</td>\n",
              "      <td>675</td>\n",
              "      <td>Triumph</td>\n",
              "      <td>600000</td>\n",
              "    </tr>\n",
              "    <tr>\n",
              "      <th>3</th>\n",
              "      <td>TVS Apache RTR 180cc</td>\n",
              "      <td>Bangalore</td>\n",
              "      <td>16329</td>\n",
              "      <td>First Owner</td>\n",
              "      <td>4</td>\n",
              "      <td>180</td>\n",
              "      <td>TVS</td>\n",
              "      <td>65000</td>\n",
              "    </tr>\n",
              "    <tr>\n",
              "      <th>4</th>\n",
              "      <td>Yamaha FZ S V 2.0 150cc-Ltd. Edition</td>\n",
              "      <td>Bangalore</td>\n",
              "      <td>10000</td>\n",
              "      <td>First Owner</td>\n",
              "      <td>3</td>\n",
              "      <td>150</td>\n",
              "      <td>Yamaha</td>\n",
              "      <td>80000</td>\n",
              "    </tr>\n",
              "    <tr>\n",
              "      <th>...</th>\n",
              "      <td>...</td>\n",
              "      <td>...</td>\n",
              "      <td>...</td>\n",
              "      <td>...</td>\n",
              "      <td>...</td>\n",
              "      <td>...</td>\n",
              "      <td>...</td>\n",
              "      <td>...</td>\n",
              "    </tr>\n",
              "    <tr>\n",
              "      <th>32643</th>\n",
              "      <td>Hero Passion Pro 100cc</td>\n",
              "      <td>Delhi</td>\n",
              "      <td>22000</td>\n",
              "      <td>First Owner</td>\n",
              "      <td>4</td>\n",
              "      <td>100</td>\n",
              "      <td>Hero</td>\n",
              "      <td>39000</td>\n",
              "    </tr>\n",
              "    <tr>\n",
              "      <th>32644</th>\n",
              "      <td>TVS Apache RTR 180cc</td>\n",
              "      <td>Karnal</td>\n",
              "      <td>6639</td>\n",
              "      <td>First Owner</td>\n",
              "      <td>9</td>\n",
              "      <td>180</td>\n",
              "      <td>TVS</td>\n",
              "      <td>30000</td>\n",
              "    </tr>\n",
              "    <tr>\n",
              "      <th>32645</th>\n",
              "      <td>Bajaj Avenger Street 220</td>\n",
              "      <td>Delhi</td>\n",
              "      <td>20373</td>\n",
              "      <td>First Owner</td>\n",
              "      <td>6</td>\n",
              "      <td>220</td>\n",
              "      <td>Bajaj</td>\n",
              "      <td>60000</td>\n",
              "    </tr>\n",
              "    <tr>\n",
              "      <th>32646</th>\n",
              "      <td>Hero Super Splendor 125cc</td>\n",
              "      <td>Jaipur</td>\n",
              "      <td>84186</td>\n",
              "      <td>First Owner</td>\n",
              "      <td>16</td>\n",
              "      <td>125</td>\n",
              "      <td>Hero</td>\n",
              "      <td>15600</td>\n",
              "    </tr>\n",
              "    <tr>\n",
              "      <th>32647</th>\n",
              "      <td>Bajaj Pulsar 150cc</td>\n",
              "      <td>Pune</td>\n",
              "      <td>60857</td>\n",
              "      <td>First Owner</td>\n",
              "      <td>13</td>\n",
              "      <td>150</td>\n",
              "      <td>Bajaj</td>\n",
              "      <td>22000</td>\n",
              "    </tr>\n",
              "  </tbody>\n",
              "</table>\n",
              "<p>32648 rows × 8 columns</p>\n",
              "</div>\n",
              "      <button class=\"colab-df-convert\" onclick=\"convertToInteractive('df-73ec10ff-47e9-4f47-81ce-1089554ac117')\"\n",
              "              title=\"Convert this dataframe to an interactive table.\"\n",
              "              style=\"display:none;\">\n",
              "        \n",
              "  <svg xmlns=\"http://www.w3.org/2000/svg\" height=\"24px\"viewBox=\"0 0 24 24\"\n",
              "       width=\"24px\">\n",
              "    <path d=\"M0 0h24v24H0V0z\" fill=\"none\"/>\n",
              "    <path d=\"M18.56 5.44l.94 2.06.94-2.06 2.06-.94-2.06-.94-.94-2.06-.94 2.06-2.06.94zm-11 1L8.5 8.5l.94-2.06 2.06-.94-2.06-.94L8.5 2.5l-.94 2.06-2.06.94zm10 10l.94 2.06.94-2.06 2.06-.94-2.06-.94-.94-2.06-.94 2.06-2.06.94z\"/><path d=\"M17.41 7.96l-1.37-1.37c-.4-.4-.92-.59-1.43-.59-.52 0-1.04.2-1.43.59L10.3 9.45l-7.72 7.72c-.78.78-.78 2.05 0 2.83L4 21.41c.39.39.9.59 1.41.59.51 0 1.02-.2 1.41-.59l7.78-7.78 2.81-2.81c.8-.78.8-2.07 0-2.86zM5.41 20L4 18.59l7.72-7.72 1.47 1.35L5.41 20z\"/>\n",
              "  </svg>\n",
              "      </button>\n",
              "      \n",
              "  <style>\n",
              "    .colab-df-container {\n",
              "      display:flex;\n",
              "      flex-wrap:wrap;\n",
              "      gap: 12px;\n",
              "    }\n",
              "\n",
              "    .colab-df-convert {\n",
              "      background-color: #E8F0FE;\n",
              "      border: none;\n",
              "      border-radius: 50%;\n",
              "      cursor: pointer;\n",
              "      display: none;\n",
              "      fill: #1967D2;\n",
              "      height: 32px;\n",
              "      padding: 0 0 0 0;\n",
              "      width: 32px;\n",
              "    }\n",
              "\n",
              "    .colab-df-convert:hover {\n",
              "      background-color: #E2EBFA;\n",
              "      box-shadow: 0px 1px 2px rgba(60, 64, 67, 0.3), 0px 1px 3px 1px rgba(60, 64, 67, 0.15);\n",
              "      fill: #174EA6;\n",
              "    }\n",
              "\n",
              "    [theme=dark] .colab-df-convert {\n",
              "      background-color: #3B4455;\n",
              "      fill: #D2E3FC;\n",
              "    }\n",
              "\n",
              "    [theme=dark] .colab-df-convert:hover {\n",
              "      background-color: #434B5C;\n",
              "      box-shadow: 0px 1px 3px 1px rgba(0, 0, 0, 0.15);\n",
              "      filter: drop-shadow(0px 1px 2px rgba(0, 0, 0, 0.3));\n",
              "      fill: #FFFFFF;\n",
              "    }\n",
              "  </style>\n",
              "\n",
              "      <script>\n",
              "        const buttonEl =\n",
              "          document.querySelector('#df-73ec10ff-47e9-4f47-81ce-1089554ac117 button.colab-df-convert');\n",
              "        buttonEl.style.display =\n",
              "          google.colab.kernel.accessAllowed ? 'block' : 'none';\n",
              "\n",
              "        async function convertToInteractive(key) {\n",
              "          const element = document.querySelector('#df-73ec10ff-47e9-4f47-81ce-1089554ac117');\n",
              "          const dataTable =\n",
              "            await google.colab.kernel.invokeFunction('convertToInteractive',\n",
              "                                                     [key], {});\n",
              "          if (!dataTable) return;\n",
              "\n",
              "          const docLinkHtml = 'Like what you see? Visit the ' +\n",
              "            '<a target=\"_blank\" href=https://colab.research.google.com/notebooks/data_table.ipynb>data table notebook</a>'\n",
              "            + ' to learn more about interactive tables.';\n",
              "          element.innerHTML = '';\n",
              "          dataTable['output_type'] = 'display_data';\n",
              "          await google.colab.output.renderOutput(dataTable, element);\n",
              "          const docLink = document.createElement('div');\n",
              "          docLink.innerHTML = docLinkHtml;\n",
              "          element.appendChild(docLink);\n",
              "        }\n",
              "      </script>\n",
              "    </div>\n",
              "  </div>\n",
              "  "
            ]
          },
          "metadata": {},
          "execution_count": 2
        }
      ],
      "source": [
        "#1. Take data and create a DATAFRAME\n",
        "\n",
        "import pandas as pd\n",
        "df = pd.read_csv('/content/bikes_dataset.csv')\n",
        "df"
      ]
    },
    {
      "cell_type": "code",
      "source": [
        "df.info()"
      ],
      "metadata": {
        "colab": {
          "base_uri": "https://localhost:8080/"
        },
        "id": "QP5wCQcyDXWf",
        "outputId": "e7db6911-702a-4934-ae58-fbae17a05191"
      },
      "execution_count": 3,
      "outputs": [
        {
          "output_type": "stream",
          "name": "stdout",
          "text": [
            "<class 'pandas.core.frame.DataFrame'>\n",
            "RangeIndex: 32648 entries, 0 to 32647\n",
            "Data columns (total 8 columns):\n",
            " #   Column      Non-Null Count  Dtype \n",
            "---  ------      --------------  ----- \n",
            " 0   bike_name   32648 non-null  object\n",
            " 1   city        32648 non-null  object\n",
            " 2   kms_driven  32648 non-null  int64 \n",
            " 3   owner       32648 non-null  object\n",
            " 4   age         32648 non-null  int64 \n",
            " 5   power       32648 non-null  int64 \n",
            " 6   brand       32648 non-null  object\n",
            " 7   price       32648 non-null  int64 \n",
            "dtypes: int64(4), object(4)\n",
            "memory usage: 2.0+ MB\n"
          ]
        }
      ]
    },
    {
      "cell_type": "code",
      "source": [
        "#3.DATA VISUALISATION\n",
        "import seaborn as sns\n",
        "sns.distplot(df['price']) #distribution plot"
      ],
      "metadata": {
        "colab": {
          "base_uri": "https://localhost:8080/",
          "height": 362
        },
        "id": "JITDHTOUDXS-",
        "outputId": "c6ac437e-3f7d-4296-b532-37ec0192e944"
      },
      "execution_count": 5,
      "outputs": [
        {
          "output_type": "stream",
          "name": "stderr",
          "text": [
            "/usr/local/lib/python3.7/dist-packages/seaborn/distributions.py:2619: FutureWarning: `distplot` is a deprecated function and will be removed in a future version. Please adapt your code to use either `displot` (a figure-level function with similar flexibility) or `histplot` (an axes-level function for histograms).\n",
            "  warnings.warn(msg, FutureWarning)\n"
          ]
        },
        {
          "output_type": "execute_result",
          "data": {
            "text/plain": [
              "<matplotlib.axes._subplots.AxesSubplot at 0x7f5f8c6273d0>"
            ]
          },
          "metadata": {},
          "execution_count": 5
        },
        {
          "output_type": "display_data",
          "data": {
            "text/plain": [
              "<Figure size 432x288 with 1 Axes>"
            ],
            "image/png": "[encoded data removed]"
          },
          "metadata": {
            "needs_background": "light"
          }
        }
      ]
    },
    {
      "cell_type": "code",
      "source": [
        "#We want to consider only the numeric data\n",
        "#So we will create a new dataframe with only numeric data\n",
        "df_numeric = df.select_dtypes(include = ['float64','int64'])\n",
        "df_numeric"
      ],
      "metadata": {
        "colab": {
          "base_uri": "https://localhost:8080/",
          "height": 424
        },
        "id": "4tsJ5FQvDqFi",
        "outputId": "a35a2657-e7ff-4f9e-da2d-d339cda8dcd6"
      },
      "execution_count": 6,
      "outputs": [
        {
          "output_type": "execute_result",
          "data": {
            "text/plain": [
              "       kms_driven  age  power   price\n",
              "0           17654    3    110   35000\n",
              "1           11000    4    350  119900\n",
              "2             110    8    675  600000\n",
              "3           16329    4    180   65000\n",
              "4           10000    3    150   80000\n",
              "...           ...  ...    ...     ...\n",
              "32643       22000    4    100   39000\n",
              "32644        6639    9    180   30000\n",
              "32645       20373    6    220   60000\n",
              "32646       84186   16    125   15600\n",
              "32647       60857   13    150   22000\n",
              "\n",
              "[32648 rows x 4 columns]"
            ],
            "text/html": [
              "\n",
              "  <div id=\"df-c2217911-b692-4ca5-9bc7-e249c0a696db\">\n",
              "    <div class=\"colab-df-container\">\n",
              "      <div>\n",
              "<style scoped>\n",
              "    .dataframe tbody tr th:only-of-type {\n",
              "        vertical-align: middle;\n",
              "    }\n",
              "\n",
              "    .dataframe tbody tr th {\n",
              "        vertical-align: top;\n",
              "    }\n",
              "\n",
              "    .dataframe thead th {\n",
              "        text-align: right;\n",
              "    }\n",
              "</style>\n",
              "<table border=\"1\" class=\"dataframe\">\n",
              "  <thead>\n",
              "    <tr style=\"text-align: right;\">\n",
              "      <th></th>\n",
              "      <th>kms_driven</th>\n",
              "      <th>age</th>\n",
              "      <th>power</th>\n",
              "      <th>price</th>\n",
              "    </tr>\n",
              "  </thead>\n",
              "  <tbody>\n",
              "    <tr>\n",
              "      <th>0</th>\n",
              "      <td>17654</td>\n",
              "      <td>3</td>\n",
              "      <td>110</td>\n",
              "      <td>35000</td>\n",
              "    </tr>\n",
              "    <tr>\n",
              "      <th>1</th>\n",
              "      <td>11000</td>\n",
              "      <td>4</td>\n",
              "      <td>350</td>\n",
              "      <td>119900</td>\n",
              "    </tr>\n",
              "    <tr>\n",
              "      <th>2</th>\n",
              "      <td>110</td>\n",
              "      <td>8</td>\n",
              "      <td>675</td>\n",
              "      <td>600000</td>\n",
              "    </tr>\n",
              "    <tr>\n",
              "      <th>3</th>\n",
              "      <td>16329</td>\n",
              "      <td>4</td>\n",
              "      <td>180</td>\n",
              "      <td>65000</td>\n",
              "    </tr>\n",
              "    <tr>\n",
              "      <th>4</th>\n",
              "      <td>10000</td>\n",
              "      <td>3</td>\n",
              "      <td>150</td>\n",
              "      <td>80000</td>\n",
              "    </tr>\n",
              "    <tr>\n",
              "      <th>...</th>\n",
              "      <td>...</td>\n",
              "      <td>...</td>\n",
              "      <td>...</td>\n",
              "      <td>...</td>\n",
              "    </tr>\n",
              "    <tr>\n",
              "      <th>32643</th>\n",
              "      <td>22000</td>\n",
              "      <td>4</td>\n",
              "      <td>100</td>\n",
              "      <td>39000</td>\n",
              "    </tr>\n",
              "    <tr>\n",
              "      <th>32644</th>\n",
              "      <td>6639</td>\n",
              "      <td>9</td>\n",
              "      <td>180</td>\n",
              "      <td>30000</td>\n",
              "    </tr>\n",
              "    <tr>\n",
              "      <th>32645</th>\n",
              "      <td>20373</td>\n",
              "      <td>6</td>\n",
              "      <td>220</td>\n",
              "      <td>60000</td>\n",
              "    </tr>\n",
              "    <tr>\n",
              "      <th>32646</th>\n",
              "      <td>84186</td>\n",
              "      <td>16</td>\n",
              "      <td>125</td>\n",
              "      <td>15600</td>\n",
              "    </tr>\n",
              "    <tr>\n",
              "      <th>32647</th>\n",
              "      <td>60857</td>\n",
              "      <td>13</td>\n",
              "      <td>150</td>\n",
              "      <td>22000</td>\n",
              "    </tr>\n",
              "  </tbody>\n",
              "</table>\n",
              "<p>32648 rows × 4 columns</p>\n",
              "</div>\n",
              "      <button class=\"colab-df-convert\" onclick=\"convertToInteractive('df-c2217911-b692-4ca5-9bc7-e249c0a696db')\"\n",
              "              title=\"Convert this dataframe to an interactive table.\"\n",
              "              style=\"display:none;\">\n",
              "        \n",
              "  <svg xmlns=\"http://www.w3.org/2000/svg\" height=\"24px\"viewBox=\"0 0 24 24\"\n",
              "       width=\"24px\">\n",
              "    <path d=\"M0 0h24v24H0V0z\" fill=\"none\"/>\n",
              "    <path d=\"M18.56 5.44l.94 2.06.94-2.06 2.06-.94-2.06-.94-.94-2.06-.94 2.06-2.06.94zm-11 1L8.5 8.5l.94-2.06 2.06-.94-2.06-.94L8.5 2.5l-.94 2.06-2.06.94zm10 10l.94 2.06.94-2.06 2.06-.94-2.06-.94-.94-2.06-.94 2.06-2.06.94z\"/><path d=\"M17.41 7.96l-1.37-1.37c-.4-.4-.92-.59-1.43-.59-.52 0-1.04.2-1.43.59L10.3 9.45l-7.72 7.72c-.78.78-.78 2.05 0 2.83L4 21.41c.39.39.9.59 1.41.59.51 0 1.02-.2 1.41-.59l7.78-7.78 2.81-2.81c.8-.78.8-2.07 0-2.86zM5.41 20L4 18.59l7.72-7.72 1.47 1.35L5.41 20z\"/>\n",
              "  </svg>\n",
              "      </button>\n",
              "      \n",
              "  <style>\n",
              "    .colab-df-container {\n",
              "      display:flex;\n",
              "      flex-wrap:wrap;\n",
              "      gap: 12px;\n",
              "    }\n",
              "\n",
              "    .colab-df-convert {\n",
              "      background-color: #E8F0FE;\n",
              "      border: none;\n",
              "      border-radius: 50%;\n",
              "      cursor: pointer;\n",
              "      display: none;\n",
              "      fill: #1967D2;\n",
              "      height: 32px;\n",
              "      padding: 0 0 0 0;\n",
              "      width: 32px;\n",
              "    }\n",
              "\n",
              "    .colab-df-convert:hover {\n",
              "      background-color: #E2EBFA;\n",
              "      box-shadow: 0px 1px 2px rgba(60, 64, 67, 0.3), 0px 1px 3px 1px rgba(60, 64, 67, 0.15);\n",
              "      fill: #174EA6;\n",
              "    }\n",
              "\n",
              "    [theme=dark] .colab-df-convert {\n",
              "      background-color: #3B4455;\n",
              "      fill: #D2E3FC;\n",
              "    }\n",
              "\n",
              "    [theme=dark] .colab-df-convert:hover {\n",
              "      background-color: #434B5C;\n",
              "      box-shadow: 0px 1px 3px 1px rgba(0, 0, 0, 0.15);\n",
              "      filter: drop-shadow(0px 1px 2px rgba(0, 0, 0, 0.3));\n",
              "      fill: #FFFFFF;\n",
              "    }\n",
              "  </style>\n",
              "\n",
              "      <script>\n",
              "        const buttonEl =\n",
              "          document.querySelector('#df-c2217911-b692-4ca5-9bc7-e249c0a696db button.colab-df-convert');\n",
              "        buttonEl.style.display =\n",
              "          google.colab.kernel.accessAllowed ? 'block' : 'none';\n",
              "\n",
              "        async function convertToInteractive(key) {\n",
              "          const element = document.querySelector('#df-c2217911-b692-4ca5-9bc7-e249c0a696db');\n",
              "          const dataTable =\n",
              "            await google.colab.kernel.invokeFunction('convertToInteractive',\n",
              "                                                     [key], {});\n",
              "          if (!dataTable) return;\n",
              "\n",
              "          const docLinkHtml = 'Like what you see? Visit the ' +\n",
              "            '<a target=\"_blank\" href=https://colab.research.google.com/notebooks/data_table.ipynb>data table notebook</a>'\n",
              "            + ' to learn more about interactive tables.';\n",
              "          element.innerHTML = '';\n",
              "          dataTable['output_type'] = 'display_data';\n",
              "          await google.colab.output.renderOutput(dataTable, element);\n",
              "          const docLink = document.createElement('div');\n",
              "          docLink.innerHTML = docLinkHtml;\n",
              "          element.appendChild(docLink);\n",
              "        }\n",
              "      </script>\n",
              "    </div>\n",
              "  </div>\n",
              "  "
            ]
          },
          "metadata": {},
          "execution_count": 6
        }
      ]
    },
    {
      "cell_type": "code",
      "source": [
        "df_numeric.info()"
      ],
      "metadata": {
        "colab": {
          "base_uri": "https://localhost:8080/"
        },
        "id": "GGleEG8lDuCu",
        "outputId": "25823373-0da9-4e30-d5ab-bf51667ea177"
      },
      "execution_count": 7,
      "outputs": [
        {
          "output_type": "stream",
          "name": "stdout",
          "text": [
            "<class 'pandas.core.frame.DataFrame'>\n",
            "RangeIndex: 32648 entries, 0 to 32647\n",
            "Data columns (total 4 columns):\n",
            " #   Column      Non-Null Count  Dtype\n",
            "---  ------      --------------  -----\n",
            " 0   kms_driven  32648 non-null  int64\n",
            " 1   age         32648 non-null  int64\n",
            " 2   power       32648 non-null  int64\n",
            " 3   price       32648 non-null  int64\n",
            "dtypes: int64(4)\n",
            "memory usage: 1020.4 KB\n"
          ]
        }
      ]
    },
    {
      "cell_type": "code",
      "source": [
        "# 4.Divide into Input and Output"
      ],
      "metadata": {
        "id": "ifx88MOjDyFm"
      },
      "execution_count": 8,
      "outputs": []
    },
    {
      "cell_type": "code",
      "source": [
        "#INPUT VALUES - Acceleration, Top speed, Range\n",
        "x = df_numeric.iloc[:,0:3].values\n",
        "x"
      ],
      "metadata": {
        "colab": {
          "base_uri": "https://localhost:8080/"
        },
        "id": "-T4stjx3D2AI",
        "outputId": "147c6c2c-c2fb-451e-8ae5-cf5c41c89adf"
      },
      "execution_count": 9,
      "outputs": [
        {
          "output_type": "execute_result",
          "data": {
            "text/plain": [
              "array([[17654,     3,   110],\n",
              "       [11000,     4,   350],\n",
              "       [  110,     8,   675],\n",
              "       ...,\n",
              "       [20373,     6,   220],\n",
              "       [84186,    16,   125],\n",
              "       [60857,    13,   150]])"
            ]
          },
          "metadata": {},
          "execution_count": 9
        }
      ]
    },
    {
      "cell_type": "code",
      "source": [
        "#OUTPUT VALUES - Efficiency\n",
        "y = df_numeric.iloc[:,3]\n",
        "y"
      ],
      "metadata": {
        "colab": {
          "base_uri": "https://localhost:8080/"
        },
        "id": "kkldAWxvD5PR",
        "outputId": "023259b3-6cdc-4cdb-f469-157cc50d981c"
      },
      "execution_count": 10,
      "outputs": [
        {
          "output_type": "execute_result",
          "data": {
            "text/plain": [
              "0         35000\n",
              "1        119900\n",
              "2        600000\n",
              "3         65000\n",
              "4         80000\n",
              "          ...  \n",
              "32643     39000\n",
              "32644     30000\n",
              "32645     60000\n",
              "32646     15600\n",
              "32647     22000\n",
              "Name: price, Length: 32648, dtype: int64"
            ]
          },
          "metadata": {},
          "execution_count": 10
        }
      ]
    },
    {
      "cell_type": "code",
      "source": [
        "#5.TRAIN and TEST VARIABLES\n",
        "\n",
        "from sklearn.model_selection import train_test_split\n",
        "x_train,x_test,y_train,y_test = train_test_split(x,y,random_state = 0)"
      ],
      "metadata": {
        "id": "0aJVAw7QD9fn"
      },
      "execution_count": 11,
      "outputs": []
    },
    {
      "cell_type": "code",
      "source": [
        "print(x.shape)        #326458rows and 3columns\n",
        "print(x_train.shape)  #24486 rows and 3columns\n",
        "print(x_test.shape)   #8162 rows and 3columns"
      ],
      "metadata": {
        "colab": {
          "base_uri": "https://localhost:8080/"
        },
        "id": "9FANnGNmECTf",
        "outputId": "abc48ab4-97a5-4c5b-8c44-c0950d5cca59"
      },
      "execution_count": 12,
      "outputs": [
        {
          "output_type": "stream",
          "name": "stdout",
          "text": [
            "(32648, 3)\n",
            "(24486, 3)\n",
            "(8162, 3)\n"
          ]
        }
      ]
    },
    {
      "cell_type": "code",
      "source": [
        "print(y.shape)       #32648 rows and 1 column   \n",
        "print(y_train.shape) #24486 rows and 1 column\n",
        "print(y_test.shape)  #8162 rows and 1 column"
      ],
      "metadata": {
        "colab": {
          "base_uri": "https://localhost:8080/"
        },
        "id": "C7x9Xhe6EF1V",
        "outputId": "8f56e355-882a-4a67-99a4-a2cb26507c26"
      },
      "execution_count": 13,
      "outputs": [
        {
          "output_type": "stream",
          "name": "stdout",
          "text": [
            "(32648,)\n",
            "(24486,)\n",
            "(8162,)\n"
          ]
        }
      ]
    },
    {
      "cell_type": "code",
      "source": [
        "# 6. SCALING or NORMALISATION \n",
        "from sklearn.preprocessing import MinMaxScaler\n",
        "scaler = MinMaxScaler()\n",
        "x_train = scaler.fit_transform(x_train)\n",
        "x_test = scaler.fit_transform(x_test)"
      ],
      "metadata": {
        "id": "IJvmJ58CEJ_P"
      },
      "execution_count": 14,
      "outputs": []
    },
    {
      "cell_type": "code",
      "source": [
        "#7.RUN a CLASSIFIER/REGRESSOR/CLUSTERER\n",
        "from sklearn.linear_model import LinearRegression\n",
        "model = LinearRegression()"
      ],
      "metadata": {
        "id": "-gKeCYPJEL6o"
      },
      "execution_count": 15,
      "outputs": []
    },
    {
      "cell_type": "code",
      "source": [
        " #8.MODEL FITTING\n",
        "model.fit(x_train,y_train)"
      ],
      "metadata": {
        "colab": {
          "base_uri": "https://localhost:8080/"
        },
        "id": "ffYtc1hrESLP",
        "outputId": "1735f062-bd74-45b3-ddb8-0f4a0cb481c5"
      },
      "execution_count": 16,
      "outputs": [
        {
          "output_type": "execute_result",
          "data": {
            "text/plain": [
              "LinearRegression()"
            ]
          },
          "metadata": {},
          "execution_count": 16
        }
      ]
    },
    {
      "cell_type": "code",
      "source": [
        "#9.PREDICT THE OUTPUT\n",
        "y_pred = model.predict(x_test)#By taking the input testing data , we predict the output\n",
        "y_pred #PREDICTED VALUES"
      ],
      "metadata": {
        "colab": {
          "base_uri": "https://localhost:8080/"
        },
        "id": "p57-NvDdEV_T",
        "outputId": "4dae0298-f611-4614-a9d1-15ca8047edad"
      },
      "execution_count": 17,
      "outputs": [
        {
          "output_type": "execute_result",
          "data": {
            "text/plain": [
              "array([ 57384.1278106 ,  70086.48541076, 400089.34260216, ...,\n",
              "        81217.86485684, 400089.34260216, 180899.22856043])"
            ]
          },
          "metadata": {},
          "execution_count": 17
        }
      ]
    },
    {
      "cell_type": "code",
      "source": [
        "y_test #ACTUAL VALUES"
      ],
      "metadata": {
        "colab": {
          "base_uri": "https://localhost:8080/"
        },
        "id": "xT3Uk9KxEZZg",
        "outputId": "9b85e5cb-0ac4-4f74-84b2-cd448fbc86c9"
      },
      "execution_count": 18,
      "outputs": [
        {
          "output_type": "execute_result",
          "data": {
            "text/plain": [
              "9763      87000\n",
              "28214     41000\n",
              "24114    450000\n",
              "16697     70000\n",
              "12930    105000\n",
              "          ...  \n",
              "25146     55005\n",
              "29317     18000\n",
              "1986     120000\n",
              "31790    450000\n",
              "8870     140900\n",
              "Name: price, Length: 8162, dtype: int64"
            ]
          },
          "metadata": {},
          "execution_count": 18
        }
      ]
    },
    {
      "cell_type": "code",
      "source": [
        "\n",
        "print(x_train[10]) #these are scaled/normalised values"
      ],
      "metadata": {
        "colab": {
          "base_uri": "https://localhost:8080/"
        },
        "id": "URYPue89Ec2J",
        "outputId": "3a0eebb4-a4ba-44e1-88e6-1cde1a9fcc33"
      },
      "execution_count": 19,
      "outputs": [
        {
          "output_type": "stream",
          "name": "stdout",
          "text": [
            "[0.03043071 0.11290323 0.        ]\n"
          ]
        }
      ]
    },
    {
      "cell_type": "code",
      "source": [
        "  #10.INDIVIDUAL PREDICTION\n",
        "model.predict([x_train[10]])"
      ],
      "metadata": {
        "colab": {
          "base_uri": "https://localhost:8080/"
        },
        "id": "l5tI6gYAEjPs",
        "outputId": "06409b2c-23be-4ab9-be89-f0d61d463b75"
      },
      "execution_count": 20,
      "outputs": [
        {
          "output_type": "execute_result",
          "data": {
            "text/plain": [
              "array([6580.70465838])"
            ]
          },
          "metadata": {},
          "execution_count": 20
        }
      ]
    }
  ]
}